{
 "cells": [
  {
   "cell_type": "code",
   "execution_count": null,
   "id": "51ce5265",
   "metadata": {},
   "outputs": [],
   "source": [
    "from tensorflow.keras import datasets, layers, models\n",
    "import matplotlib.pyplot as plt\n",
    "import tensorflow as tf\n",
    "\n",
    "import numpy as np\n",
    "import seaborn as sns\n",
    "import pandas as pd\n"
   ]
  },
  {
   "cell_type": "code",
   "execution_count": null,
   "id": "9d96f974",
   "metadata": {},
   "outputs": [],
   "source": [
    "tf.__version__"
   ]
  },
  {
   "cell_type": "code",
   "execution_count": null,
   "id": "155ab4ef",
   "metadata": {},
   "outputs": [],
   "source": [
    "%load_ext tensorboard"
   ]
  },
  {
   "cell_type": "code",
   "execution_count": null,
   "id": "1e0f7fb7",
   "metadata": {},
   "outputs": [],
   "source": [
    "logdir= 'log'"
   ]
  },
  {
   "cell_type": "code",
   "execution_count": null,
   "id": "717685e4",
   "metadata": {},
   "outputs": [],
   "source": [
    "(train_images, train_labels), (test_images, test_labels) = datasets.mnist.load_data()\n",
    "\n",
    "train_images = train_images.reshape((60000, 28,28,1))\n",
    "test_images = test_images.reshape((10000,28,28,1))\n",
    "\n",
    "train_images, test_images = train_images / 255.0, test_images / 255.0\n",
    "classes = [0,1,2,3,4,5,6,7,8,9]"
   ]
  },
  {
   "cell_type": "code",
   "execution_count": null,
   "id": "f1c86481",
   "metadata": {},
   "outputs": [],
   "source": [
    "model = models.Sequential()\n",
    "model.add(layers.Conv2D(32, (3,3), activation='relu', input_shape=(28,28,1)))\n",
    "model.add(layers.MaxPooling2D((2,2)))\n",
    "model.add(layers.Conv2D(64,(3,3), activation = 'relu'))\n",
    "model.add(layers.MaxPooling2D((2,2)))\n",
    "model.add(layers.Conv2D(64, (3,3), activation='relu'))\n",
    "\n",
    "model.add(layers.Flatten())\n",
    "model.add(layers.Dense(64, activation='relu'))\n",
    "model.add(layers.Dense(10, activation='softmax'))"
   ]
  },
  {
   "cell_type": "code",
   "execution_count": null,
   "id": "e0e162c5",
   "metadata": {},
   "outputs": [],
   "source": [
    "tensorboard_callback = tf.keras.callbacks.TensorBoard(logdir, histogram_freq=1)"
   ]
  },
  {
   "cell_type": "code",
   "execution_count": null,
   "id": "f92bdc61",
   "metadata": {},
   "outputs": [],
   "source": [
    "model.compile(optimizer='adam',\n",
    "              loss='sparse_categorical_crossentropy',\n",
    "              metrics=['accuracy'])\n",
    "\n",
    "model.fit(x=train_images,\n",
    "          y=train_labels,\n",
    "          epochs=5,\n",
    "          validation_data=(test_images, test_labels))"
   ]
  },
  {
   "cell_type": "code",
   "execution_count": null,
   "id": "00c8147b",
   "metadata": {},
   "outputs": [],
   "source": [
    "# Faz predições (retorna um array de probabilidades para cada classe)\n",
    "y_pred_probs = model.predict(test_images)\n",
    "\n",
    "# Converte as probabilidades para classes (a que tiver maior valor)\n",
    "y_pred = np.argmax(y_pred_probs, axis=1)"
   ]
  },
  {
   "cell_type": "code",
   "execution_count": null,
   "id": "88441565",
   "metadata": {},
   "outputs": [],
   "source": [
    "classes=[0,1,2,3,4,5,6,7,8,9]"
   ]
  },
  {
   "cell_type": "code",
   "execution_count": null,
   "id": "5621d6ce",
   "metadata": {},
   "outputs": [],
   "source": [
    "con_mat = tf.math.confusion_matrix(labels=y_true, predictions=y_pred).numpy()\n",
    "con_mat_norm = np.around(con_mat.astype('float') / con_mat.sum(axis=1)[:, np.newaxis], decimals=2)\n",
    "\n",
    "con_mat_df = pd.DataFrame(con_mat_norm,\n",
    "                          index = classes,\n",
    "                          columns=classes)\n",
    "\n",
    "figure = plt.figure(figsize=(8,8))\n",
    "sns.heatmap(con_mat_df, annot=True, cmap=plt.cm.Blues)\n",
    "plt.tight_layout()\n",
    "plt.ylabel('True label')\n",
    "plt.xlabel('Predicted label')\n",
    "plt.show()"
   ]
  },
  {
   "cell_type": "markdown",
   "id": "aea6ab83",
   "metadata": {},
   "source": [
    "# Testes \n",
    "\n",
    "Sensibilidade VP / (VP + FN)\n",
    "\n",
    "Especificidade VN / (FP + VN)\n",
    "\n",
    "Acurácia (VP + VN) / N\n",
    "\n",
    "Precisão VP / (VP + FP)\n",
    "\n",
    "F-score  2x (PxS) / (P+S)"
   ]
  },
  {
   "cell_type": "code",
   "execution_count": null,
   "id": "f71c2a95",
   "metadata": {},
   "outputs": [],
   "source": [
    "# Sensibilidade\n",
    "\n",
    "sensibilidade = np.diag(con_mat) / np.sum(con_mat, axis=1)\n",
    "\n",
    "# Exibir\n",
    "for idx, classe in enumerate(classes):\n",
    "    print(f\"Classe {classe} - Sensibilidade (Recall): {sensibilidade[idx]:.2f}\")"
   ]
  },
  {
   "cell_type": "code",
   "execution_count": null,
   "id": "b4825fc6",
   "metadata": {},
   "outputs": [],
   "source": [
    "# Expecificidade\n",
    "\n",
    "num_classes = con_mat.shape[0]\n",
    "especificidade = []\n",
    "\n",
    "for i in range(num_classes):\n",
    "    TP = con_mat[i, i]\n",
    "    FN = np.sum(con_mat[i, :]) - TP\n",
    "    FP = np.sum(con_mat[:, i]) - TP\n",
    "    TN = np.sum(con_mat) - (TP + FP + FN)\n",
    "\n",
    "    esp = TN / (TN + FP) if (TN + FP) > 0 else 0\n",
    "    especificidade.append(esp)\n",
    "\n",
    "\n",
    "for idx, classe in enumerate(classes):\n",
    "    print(f\"Classe {classe} - Especificidade: {especificidade[idx]:.2f}\")"
   ]
  },
  {
   "cell_type": "code",
   "execution_count": null,
   "id": "49c9ae54",
   "metadata": {},
   "outputs": [],
   "source": [
    "# Acurácia\n",
    "\n",
    "acuracia_global = np.trace(con_mat) / np.sum(con_mat)\n",
    "print(f\"Acurácia global: {acuracia_global:.2f}\")\n",
    "\n",
    "\n",
    "num_classes = con_mat.shape[0]\n",
    "acuracia_por_classe = []\n",
    "\n",
    "for i in range(num_classes):\n",
    "    TP = con_mat[i, i]\n",
    "    FP = np.sum(con_mat[:, i]) - TP\n",
    "    FN = np.sum(con_mat[i, :]) - TP\n",
    "    TN = np.sum(con_mat) - (TP + FP + FN)\n",
    "\n",
    "    acc = (TP + TN) / np.sum(con_mat)\n",
    "    acuracia_por_classe.append(acc)\n",
    "\n",
    "for idx, classe in enumerate(classes):\n",
    "    print(f\"Classe {classe} - Acurácia: {acuracia_por_classe[idx]:.2f}\")\n",
    "\n"
   ]
  },
  {
   "cell_type": "code",
   "execution_count": null,
   "id": "0e8cafb0",
   "metadata": {},
   "outputs": [],
   "source": [
    "# Precisão\n",
    "\n",
    "num_classes = con_mat.shape[0]\n",
    "precisao = []\n",
    "\n",
    "for i in range(num_classes):\n",
    "    TP = con_mat[i, i]\n",
    "    FP = np.sum(con_mat[:, i]) - TP\n",
    "    prec = TP / (TP + FP) if (TP + FP) > 0 else 0\n",
    "    precisao.append(prec)\n",
    "\n",
    "for idx, classe in enumerate(classes):\n",
    "    print(f\"Classe {classe} - Precisão: {precisao[idx]:.2f}\")\n"
   ]
  },
  {
   "cell_type": "code",
   "execution_count": null,
   "id": "15c02f2c",
   "metadata": {},
   "outputs": [],
   "source": [
    "# F-score\n",
    "\n",
    "num_classes = con_mat.shape[0]\n",
    "f1_score = []\n",
    "\n",
    "for i in range(num_classes):\n",
    "    TP = con_mat[i, i]\n",
    "    FN = np.sum(con_mat[i, :]) - TP\n",
    "    FP = np.sum(con_mat[:, i]) - TP\n",
    "\n",
    "    prec = TP / (TP + FP) if (TP + FP) > 0 else 0\n",
    "    rec = TP / (TP + FN) if (TP + FN) > 0 else 0\n",
    "\n",
    "    f1 = 2 * (prec * rec) / (prec + rec) if (prec + rec) > 0 else 0\n",
    "    f1_score.append(f1)\n",
    "\n",
    "for idx, classe in enumerate(classes):\n",
    "    print(f\"Classe {classe} - F1-Score: {f1_score[idx]:.2f}\")\n"
   ]
  }
 ],
 "metadata": {
  "kernelspec": {
   "display_name": "venv310",
   "language": "python",
   "name": "python3"
  },
  "language_info": {
   "codemirror_mode": {
    "name": "ipython",
    "version": 3
   },
   "file_extension": ".py",
   "mimetype": "text/x-python",
   "name": "python",
   "nbconvert_exporter": "python",
   "pygments_lexer": "ipython3",
   "version": "3.10.0"
  }
 },
 "nbformat": 4,
 "nbformat_minor": 5
}
